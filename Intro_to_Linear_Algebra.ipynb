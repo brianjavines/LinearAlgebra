{
  "nbformat": 4,
  "nbformat_minor": 0,
  "metadata": {
    "colab": {
      "name": "Intro to Linear Algebra.ipynb",
      "provenance": [],
      "authorship_tag": "ABX9TyMyd4GqMgQ/NTUBI9OANcF/",
      "include_colab_link": true
    },
    "kernelspec": {
      "name": "python3",
      "display_name": "Python 3"
    },
    "language_info": {
      "name": "python"
    }
  },
  "cells": [
    {
      "cell_type": "markdown",
      "metadata": {
        "id": "view-in-github",
        "colab_type": "text"
      },
      "source": [
        "<a href=\"https://colab.research.google.com/github/brianjavines/LinearAlgebra/blob/main/Intro_to_Linear_Algebra.ipynb\" target=\"_parent\"><img src=\"https://colab.research.google.com/assets/colab-badge.svg\" alt=\"Open In Colab\"/></a>"
      ]
    },
    {
      "cell_type": "markdown",
      "metadata": {
        "id": "YuwUkRH1KKsQ"
      },
      "source": [
        "**Intro to Linear Algebra Demo**\n",
        "\n",
        "Submitted by: Brian Christian M. Javines\n",
        "\n",
        "Section: 58020\n",
        "\n",
        "Submiited to: Ma'am Maria Rizette"
      ]
    },
    {
      "cell_type": "code",
      "metadata": {
        "id": "BKMGHul8KEWJ",
        "colab": {
          "base_uri": "https://localhost:8080/"
        },
        "outputId": "2f129660-6f14-4a0b-ba23-b867d6832af6"
      },
      "source": [
        "print(\"Hello CpE Students\")"
      ],
      "execution_count": null,
      "outputs": [
        {
          "output_type": "stream",
          "text": [
            "Hello CpE Students\n"
          ],
          "name": "stdout"
        }
      ]
    },
    {
      "cell_type": "code",
      "metadata": {
        "id": "z8i0SdeiKk9M"
      },
      "source": [
        "x = 1\n",
        "a, b = 0, -1\n",
        "a, b, c = 0, -1, 2"
      ],
      "execution_count": null,
      "outputs": []
    },
    {
      "cell_type": "code",
      "metadata": {
        "colab": {
          "base_uri": "https://localhost:8080/"
        },
        "id": "2gFiwi1QKot9",
        "outputId": "1e789687-d896-4728-cb86-47263699ee3c"
      },
      "source": [
        "b = \"sally\"\n",
        "b = int(4)\n",
        "print(b)\n",
        "\n",
        "b=float(4)\n",
        "print(b)"
      ],
      "execution_count": null,
      "outputs": [
        {
          "output_type": "stream",
          "text": [
            "4\n",
            "4.0\n"
          ],
          "name": "stdout"
        }
      ]
    },
    {
      "cell_type": "code",
      "metadata": {
        "colab": {
          "base_uri": "https://localhost:8080/"
        },
        "id": "Hm-Lb4F0K9S5",
        "outputId": "5c37deb6-ba38-412b-c04e-c27b4e978d17"
      },
      "source": [
        "x = 3\n",
        "y = \"Brian\"\n",
        "\n",
        "print(type(x))\n",
        "print(type(y))"
      ],
      "execution_count": null,
      "outputs": [
        {
          "output_type": "stream",
          "text": [
            "<class 'int'>\n",
            "<class 'str'>\n"
          ],
          "name": "stdout"
        }
      ]
    },
    {
      "cell_type": "code",
      "metadata": {
        "colab": {
          "base_uri": "https://localhost:8080/"
        },
        "id": "AzeZI-p5Lefs",
        "outputId": "52913f9f-a4b2-468f-8edb-3f089f8ffd92"
      },
      "source": [
        "a = 5\n",
        "A = \"Brian\"\n",
        "\n",
        "print(a)\n",
        "print(A)"
      ],
      "execution_count": null,
      "outputs": [
        {
          "output_type": "stream",
          "text": [
            "5\n",
            "Brian\n"
          ],
          "name": "stdout"
        }
      ]
    },
    {
      "cell_type": "code",
      "metadata": {
        "colab": {
          "base_uri": "https://localhost:8080/"
        },
        "id": "00VsNniaLeef",
        "outputId": "64590bd5-c665-407d-bae1-13c7e3a7f603"
      },
      "source": [
        "x, y, z = \"one\", \"two\", \"three\"\n",
        "\n",
        "print(x)\n",
        "print(y)\n",
        "print(z)"
      ],
      "execution_count": null,
      "outputs": [
        {
          "output_type": "stream",
          "text": [
            "one\n",
            "two\n",
            "three\n"
          ],
          "name": "stdout"
        }
      ]
    },
    {
      "cell_type": "code",
      "metadata": {
        "colab": {
          "base_uri": "https://localhost:8080/"
        },
        "id": "ztdklPLNL8La",
        "outputId": "4032ae41-6064-426b-eccb-a8275b80b7bc"
      },
      "source": [
        "x = y = z = \"five\"\n",
        "\n",
        "print(x)\n",
        "print(y)\n",
        "print(z)"
      ],
      "execution_count": null,
      "outputs": [
        {
          "output_type": "stream",
          "text": [
            "five\n",
            "five\n",
            "five\n"
          ],
          "name": "stdout"
        }
      ]
    },
    {
      "cell_type": "code",
      "metadata": {
        "colab": {
          "base_uri": "https://localhost:8080/"
        },
        "id": "a6QpfdPKMRw9",
        "outputId": "8ca96c48-011b-4d73-a2bd-615d3ad59f83"
      },
      "source": [
        "x = \"enjoying\"\n",
        "print(\"Python programming is \"+x)\n",
        "\n",
        "x = \"Python programming is\"\n",
        "y = \" enjoying\"\n",
        "print(x+y)"
      ],
      "execution_count": null,
      "outputs": [
        {
          "output_type": "stream",
          "text": [
            "Python programming is enjoying\n",
            "Python programming is enjoying\n"
          ],
          "name": "stdout"
        }
      ]
    },
    {
      "cell_type": "code",
      "metadata": {
        "colab": {
          "base_uri": "https://localhost:8080/"
        },
        "id": "m8Z6x7fbM2SW",
        "outputId": "35cc5cdb-0066-473a-fb57-052f83ba667f"
      },
      "source": [
        "x = 6\n",
        "y = 7\n",
        "print(x+y)"
      ],
      "execution_count": null,
      "outputs": [
        {
          "output_type": "stream",
          "text": [
            "13\n"
          ],
          "name": "stdout"
        }
      ]
    },
    {
      "cell_type": "code",
      "metadata": {
        "colab": {
          "base_uri": "https://localhost:8080/"
        },
        "id": "gwicugwjM2TZ",
        "outputId": "016adf1b-7b2d-4233-9805-8f2d2a0c19f7"
      },
      "source": [
        "x = 5\n",
        "y = 7\n",
        "sum=x+y\n",
        "\n",
        "print(sum)"
      ],
      "execution_count": null,
      "outputs": [
        {
          "output_type": "stream",
          "text": [
            "12\n"
          ],
          "name": "stdout"
        }
      ]
    },
    {
      "cell_type": "code",
      "metadata": {
        "colab": {
          "base_uri": "https://localhost:8080/"
        },
        "id": "VtQ0gc_CQv3_",
        "outputId": "f62c6969-293f-4a17-e3cd-57356567c8ec"
      },
      "source": [
        "x = 9\n",
        "y = 6\n",
        "x > y"
      ],
      "execution_count": null,
      "outputs": [
        {
          "output_type": "execute_result",
          "data": {
            "text/plain": [
              "True"
            ]
          },
          "metadata": {},
          "execution_count": 23
        }
      ]
    },
    {
      "cell_type": "code",
      "metadata": {
        "colab": {
          "base_uri": "https://localhost:8080/"
        },
        "id": "MgkvQ68dQkya",
        "outputId": "df688b6b-f0d3-4bb7-8462-f9c67989fa6e"
      },
      "source": [
        "a, b, c = 2, 6, -4\n",
        "a>b and c>b"
      ],
      "execution_count": null,
      "outputs": [
        {
          "output_type": "execute_result",
          "data": {
            "text/plain": [
              "False"
            ]
          },
          "metadata": {},
          "execution_count": 19
        }
      ]
    },
    {
      "cell_type": "code",
      "metadata": {
        "colab": {
          "base_uri": "https://localhost:8080/"
        },
        "id": "9aYHZaFNQdvU",
        "outputId": "4c3bee62-163c-476a-eb3f-4625e3ba58f0"
      },
      "source": [
        "x = float(6)\n",
        "y = 7\n",
        "x is not y"
      ],
      "execution_count": null,
      "outputs": [
        {
          "output_type": "execute_result",
          "data": {
            "text/plain": [
              "True"
            ]
          },
          "metadata": {},
          "execution_count": 20
        }
      ]
    },
    {
      "cell_type": "code",
      "metadata": {
        "id": "SNy2b8JMRFTk"
      },
      "source": [
        ""
      ],
      "execution_count": null,
      "outputs": []
    }
  ]
}